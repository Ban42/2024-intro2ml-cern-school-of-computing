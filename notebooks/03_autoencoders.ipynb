{
 "cells": [
  {
   "cell_type": "markdown",
   "id": "5c65c89a",
   "metadata": {
    "cell_marker": "\"\"\""
   },
   "source": [
    "# Autoencoders\n",
    "\n",
    "An autoencoder is a type of artificial neural network used for learning efficient codings of input data. It's essentially a network that attempts to replicate its input (encoding) as its output (decoding), but the network is designed in such a way that it must learn an efficient representation (compression) for the input data in order to map it back to itself.\n",
    "\n",
    "The importance of autoencoders lies in their ability to learn the underlying structure of complex data, making them valuable tools for scientific data analysis. Here's how:\n",
    "\n",
    "1. Dimensionality Reduction: Autoencoders can be used to reduce the dimensionality of high-dimensional data while preserving its essential characteristics. This is particularly useful in cases where the high dimensionality makes computations slow or the data overfitting occurs.\n",
    "\n",
    "2. Denoising: By training autoencoders on noisy versions of the data, they can learn to remove noise from the original data, making it cleaner and easier to analyze.\n",
    "\n",
    "3. Anomaly Detection: The encoder part of the autoencoder can be used to represent the input data in a lower-dimensional space. Any data point that is far from the rest in this space can be considered an anomaly, as it doesn't fit the pattern learned by the autoencoder during training.\n",
    "\n",
    "4. Generative Modeling: Autoencoders can be used as generative models, allowing them to generate new data that are similar to the original data. This can be useful in various scientific applications, such as creating synthetic data or for exploring the data space.\n",
    "\n",
    "5. Feature Learning: Autoencoders can learn useful features from raw data, which can then be used as inputs for other machine learning models, improving their performance.\n",
    "\n",
    "In summary, autoencoders are a powerful tool for scientific data analysis due to their ability to learn the underlying structure of complex data."
   ]
  },
  {
   "cell_type": "markdown",
   "id": "afa955e2",
   "metadata": {
    "cell_marker": "\"\"\""
   },
   "source": [
    "## An autoencoder for denoising\n",
    "\n",
    "In the next cells, we will face a situation in which the quality of the data is rather poor. There is a lot of noise added to the dataset which is hard to handle. We will set up an autoencoder to tackle the task of **denoising**.\n",
    "\n",
    "First, let's prepare a dataset, which is contains a signal we are interested in and the noise."
   ]
  },
  {
   "cell_type": "code",
   "execution_count": null,
   "id": "5c15f3b2",
   "metadata": {},
   "outputs": [],
   "source": [
    "\n",
    "import numpy as np\n",
    "import torch\n",
    "\n",
    "np.random.seed(13)\n",
    "torch.random.manual_seed(12)"
   ]
  },
  {
   "cell_type": "code",
   "execution_count": null,
   "id": "b44ee1fd",
   "metadata": {},
   "outputs": [],
   "source": [
    "from mnist1d.data import get_dataset_args, make_dataset\n",
    "\n",
    "# disable noise for a clear reference\n",
    "clean_config = get_dataset_args()\n",
    "clean_config.iid_noise_scale = 0\n",
    "clean_config.corr_noise_scale = 0\n",
    "clean = make_dataset(clean_config)\n",
    "cleanX, cleany = clean['x'], clean['y']\n",
    "\n",
    "# use iid noise only for the time being\n",
    "arguments = get_dataset_args()\n",
    "arguments.iid_noise_scale = .1\n",
    "arguments.corr_noise_scale = 0\n",
    "data = make_dataset(arguments)\n",
    "\n",
    "X, y = data['x'], data['y']"
   ]
  },
  {
   "cell_type": "markdown",
   "id": "98cf4cde",
   "metadata": {
    "cell_marker": "\"\"\""
   },
   "source": [
    "Now, let's plot the data which we would like to use."
   ]
  },
  {
   "cell_type": "code",
   "execution_count": null,
   "id": "7696cf09",
   "metadata": {},
   "outputs": [],
   "source": [
    "import matplotlib.pyplot as plt\n",
    "\n",
    "f, ax = plt.subplots(2, 5, figsize=(14, 5), sharex=True, sharey=True)\n",
    "\n",
    "for sample in range(10):\n",
    "    col = sample % 5\n",
    "    row = sample // 5\n",
    "    ax[row, col].plot(X[sample, ...], label=\"noisy\")\n",
    "    ax[row, col].plot(cleanX[sample, ...], label=\"clean\", color=\"green\")\n",
    "    label = y[sample]\n",
    "    ax[row, col].set_title(f\"label {label}\")\n",
    "    if row == 1:\n",
    "        ax[row, col].set_xlabel(f\"samples / a.u.\")\n",
    "    if col == 0:\n",
    "        ax[row, col].set_ylabel(f\"intensity / a.u.\")\n",
    "    if col == 4 and row == 0:\n",
    "        ax[row, col].legend()\n",
    "\n",
    "f.suptitle(\"MNIST1D examples\")\n",
    "f.savefig(\"mnist1d_noisy_first10.svg\")"
   ]
  },
  {
   "cell_type": "markdown",
   "id": "53795f62",
   "metadata": {
    "cell_marker": "\"\"\""
   },
   "source": [
    "As we can see, the data is filled with jitter. Furthermore, it is interesting to note, that our dataset is still far from trivial. Have a look at all signals which are assigned to label `6`. Could you make them out by eye?\n",
    "\n",
    "## Designing an autoencoder\n",
    "\n",
    "The [autoencoder architecture](https://en.wikipedia.org/wiki/Autoencoder) is well illustrated on wikipedia. We reproduce [the image](https://commons.wikimedia.org/wiki/File:Autoencoder_schema.png) by [Michaela Massi](https://commons.wikimedia.org/w/index.php?title=User:Michela_Massi&action=edit&redlink=1) here for convenience:\n",
    "<div style=\"display: block;margin-left: auto;margin-right: auto;width: 75%;\"><img src=\"https://upload.wikimedia.org/wikipedia/commons/3/37/Autoencoder_schema.png\" alt=\"autoencoder schematic from wikipedia by Michaela Massi, CC-BY 4.0\"></div>\n",
    "\n",
    "The architecture consists of three parts:\n",
    "1. **the encoder** on the left: this small network ingests the input data `X` and compresses it into a smaller shape\n",
    "2. the **code** in the center: this is the \"bottleneck\" which holds the **latent representation** of your input data\n",
    "3. **the decoder** on the right: which reconstructs the output from the latent code\n",
    "\n",
    "The task of the autoencoder is to reconstruct the input as best as possible. This task is far from easy, as the autoencoder is forced to shrink the data into the latent space."
   ]
  },
  {
   "cell_type": "code",
   "execution_count": null,
   "id": "64a6347c",
   "metadata": {
    "lines_to_next_cell": 1
   },
   "outputs": [],
   "source": [
    "from utils import count_params\n",
    "\n",
    "\n",
    "class MyEncoder(torch.nn.Module):\n",
    "\n",
    "    def __init__(self, nlayers: int = 3, nchannels=16):\n",
    "\n",
    "        super().__init__()\n",
    "        self.layers = torch.nn.Sequential()\n",
    "\n",
    "        for i in range(nlayers-1):\n",
    "            inchannels = 1 if i == 0 else nchannels\n",
    "            # convolve and shrink input width by 2x\n",
    "            self.layers.append(torch.nn.Conv1d(in_channels=inchannels,\n",
    "                                               out_channels=nchannels,\n",
    "                                               kernel_size=5,\n",
    "                                               padding=2,\n",
    "                                               stride=2))\n",
    "            self.layers.append(torch.nn.ReLU())\n",
    "\n",
    "        # convolve and keep input width\n",
    "        self.layers.append(torch.nn.Conv1d(in_channels=nchannels, out_channels=1,\n",
    "                                           kernel_size=3, padding=1))\n",
    "        self.layers.append(torch.nn.ReLU())\n",
    "\n",
    "        # flatten and add a linear tail\n",
    "        self.layers.append(torch.nn.Flatten())\n",
    "\n",
    "    def forward(self, x):\n",
    "\n",
    "        return self.layers(x)"
   ]
  },
  {
   "cell_type": "code",
   "execution_count": null,
   "id": "4385c40e",
   "metadata": {},
   "outputs": [],
   "source": [
    "enc = MyEncoder()\n",
    "print(f\"constructed encoder with {count_params(enc)} parameters\")\n",
    "\n",
    "# convert input data to torch.Tensor\n",
    "Xt = torch.from_numpy(X)\n",
    "# convolutions in torch require an explicit channel to be present in the data\n",
    "Xt = Xt.unsqueeze(1)\n",
    "# convert to float\n",
    "Xt = Xt.float()\n",
    "# extract only first 8 samples for testing\n",
    "Xtest = Xt[:8, ...]\n",
    "\n",
    "latent_h = enc(Xtest)\n",
    "\n",
    "print(Xtest.shape, Xtest.dtype, \"->\", latent_h.shape, latent_h.dtype)"
   ]
  },
  {
   "cell_type": "markdown",
   "id": "b374d4fd",
   "metadata": {
    "cell_marker": "\"\"\"",
    "lines_to_next_cell": 1
   },
   "source": [
    "The encoder has been constructed. Now, we need to add a decoder object to reconstruct from the latent space."
   ]
  },
  {
   "cell_type": "code",
   "execution_count": null,
   "id": "f6796595",
   "metadata": {
    "lines_to_next_cell": 1
   },
   "outputs": [],
   "source": [
    "class MyDecoder(torch.nn.Module):\n",
    "\n",
    "    def __init__(self, nlayers: int = 3, nchannels=16):\n",
    "\n",
    "        super().__init__()\n",
    "        self.layers = torch.nn.Sequential()\n",
    "\n",
    "        for i in range(nlayers-1):\n",
    "            inchannels = 1 if i == 0 else nchannels\n",
    "            # deconvolve/Upsample and grow input width by 2x\n",
    "            self.layers.append(torch.nn.ConvTranspose1d(in_channels=inchannels,\n",
    "                                                        out_channels=nchannels,\n",
    "                                                        kernel_size=5,\n",
    "                                                        padding=2,\n",
    "                                                        stride=2,\n",
    "                                                        output_padding=1))\n",
    "            self.layers.append(torch.nn.ReLU())\n",
    "\n",
    "        # convolve and keep input width\n",
    "        self.layers.append(torch.nn.Conv1d(in_channels=nchannels, out_channels=1,\n",
    "                                           kernel_size=3, padding=1))\n",
    "\n",
    "    def forward(self, x):\n",
    "\n",
    "        return self.layers(x)"
   ]
  },
  {
   "cell_type": "code",
   "execution_count": null,
   "id": "e8c7f48f",
   "metadata": {},
   "outputs": [],
   "source": [
    "dec = MyDecoder()\n",
    "print(f\"constructed decoder with {count_params(dec)} parameters\")\n",
    "\n",
    "Xt_prime = dec(latent_h.unsqueeze(1))\n",
    "assert Xt_prime.shape == Xtest.shape, f\"{Xt_prime.shape} != {Xtest.shape}\"\n",
    "print(f\"decoder is ready to train!\")"
   ]
  }
 ],
 "metadata": {
  "kernelspec": {
   "display_name": "Python 3 (ipykernel)",
   "language": "python",
   "name": "python3"
  }
 },
 "nbformat": 4,
 "nbformat_minor": 5
}
