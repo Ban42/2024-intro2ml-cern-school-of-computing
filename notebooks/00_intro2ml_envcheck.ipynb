{
 "cells": [
  {
   "cell_type": "markdown",
   "id": "61b948a3",
   "metadata": {},
   "source": [
    "# Environment Check\n",
    "\n",
    "This notebook is intended for all learners to check their environment. Click through it to see if your environment is setup correctly."
   ]
  },
  {
   "cell_type": "code",
   "execution_count": null,
   "id": "056ce679",
   "metadata": {},
   "outputs": [],
   "source": [
    "import torch\n",
    "\n",
    "print(\"torch installed, \", torch.__version__)"
   ]
  },
  {
   "cell_type": "code",
   "execution_count": null,
   "id": "b1ccdf9c",
   "metadata": {},
   "outputs": [],
   "source": [
    "\n",
    "import seaborn\n",
    "\n",
    "print(\"seaborn installed, \", seaborn.__version__)"
   ]
  },
  {
   "cell_type": "markdown",
   "id": "95a7eee3",
   "metadata": {},
   "source": [
    "If you were able to run the notebook until this point without any errors, you are"
   ]
  },
  {
   "cell_type": "code",
   "execution_count": null,
   "id": "4993fe54",
   "metadata": {},
   "outputs": [],
   "source": [
    "print(\"READY to GO!\")"
   ]
  }
 ],
 "metadata": {
  "kernelspec": {
   "display_name": "Python 3 (ipykernel)",
   "language": "python",
   "name": "python3"
  }
 },
 "nbformat": 4,
 "nbformat_minor": 5
}
